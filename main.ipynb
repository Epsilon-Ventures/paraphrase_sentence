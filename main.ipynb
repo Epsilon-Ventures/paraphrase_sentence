{
 "cells": [
  {
   "cell_type": "code",
   "execution_count": 2,
   "metadata": {},
   "outputs": [],
   "source": [
    "import pandas as pd\n",
    "import csv\n",
    "from utils.paraphrase_sentence import paraphrase_sentence"
   ]
  },
  {
   "cell_type": "code",
   "execution_count": null,
   "metadata": {},
   "outputs": [],
   "source": [
    "# Read the question data\n",
    "questions = pd.read_csv(\"data/ques.csv\")"
   ]
  },
  {
   "cell_type": "code",
   "execution_count": null,
   "metadata": {},
   "outputs": [],
   "source": [
    "with open(\"./ques/paraphrased_questions.csv\", \"a\", newline='') as f:\n",
    "  paraphrased_questions = paraphrase_sentence(questions)\n",
    "  write = csv.writer(f)\n",
    "  write.writerows(paraphrased_questions)"
   ]
  }
 ],
 "metadata": {
  "kernelspec": {
   "display_name": "venv",
   "language": "python",
   "name": "python3"
  },
  "language_info": {
   "codemirror_mode": {
    "name": "ipython",
    "version": 3
   },
   "file_extension": ".py",
   "mimetype": "text/x-python",
   "name": "python",
   "nbconvert_exporter": "python",
   "pygments_lexer": "ipython3",
   "version": "3.10.6"
  },
  "orig_nbformat": 4,
  "vscode": {
   "interpreter": {
    "hash": "026957a7714977eb1be53ae58b9f9ac3c19ad12b778e4b7855d33d4495722b46"
   }
  }
 },
 "nbformat": 4,
 "nbformat_minor": 2
}
