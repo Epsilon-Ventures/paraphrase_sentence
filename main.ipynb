{
 "cells": [
  {
   "cell_type": "code",
   "execution_count": 1,
   "metadata": {},
   "outputs": [],
   "source": [
    "import pandas as pd\n",
    "import csv\n",
    "from utils.paraphrase_sentence import paraphrase_sentence\n",
    "from sklearn.model_selection import train_test_split"
   ]
  },
  {
   "cell_type": "code",
   "execution_count": 2,
   "metadata": {},
   "outputs": [
    {
     "data": {
      "text/html": [
       "<div>\n",
       "<style scoped>\n",
       "    .dataframe tbody tr th:only-of-type {\n",
       "        vertical-align: middle;\n",
       "    }\n",
       "\n",
       "    .dataframe tbody tr th {\n",
       "        vertical-align: top;\n",
       "    }\n",
       "\n",
       "    .dataframe thead th {\n",
       "        text-align: right;\n",
       "    }\n",
       "</style>\n",
       "<table border=\"1\" class=\"dataframe\">\n",
       "  <thead>\n",
       "    <tr style=\"text-align: right;\">\n",
       "      <th></th>\n",
       "      <th>question</th>\n",
       "      <th>subject</th>\n",
       "    </tr>\n",
       "  </thead>\n",
       "  <tbody>\n",
       "    <tr>\n",
       "      <th>0</th>\n",
       "      <td>What are closed and open traverses? Explain Bo...</td>\n",
       "      <td>Advance  Surveying holder</td>\n",
       "    </tr>\n",
       "    <tr>\n",
       "      <th>1</th>\n",
       "      <td>Distinguish between stadia and tangential syst...</td>\n",
       "      <td>Advance  Surveying holder</td>\n",
       "    </tr>\n",
       "    <tr>\n",
       "      <th>2</th>\n",
       "      <td>Find the elements of simple circular curve.</td>\n",
       "      <td>Advance  Surveying holder</td>\n",
       "    </tr>\n",
       "    <tr>\n",
       "      <th>3</th>\n",
       "      <td>Two roads defect at angle of 600. The are to b...</td>\n",
       "      <td>Advance  Surveying holder</td>\n",
       "    </tr>\n",
       "    <tr>\n",
       "      <th>4</th>\n",
       "      <td>Write various methods of sounding</td>\n",
       "      <td>Advance  Surveying holder</td>\n",
       "    </tr>\n",
       "    <tr>\n",
       "      <th>...</th>\n",
       "      <td>...</td>\n",
       "      <td>...</td>\n",
       "    </tr>\n",
       "    <tr>\n",
       "      <th>9787</th>\n",
       "      <td>Define intersection and resection with neat sk...</td>\n",
       "      <td>Surveying</td>\n",
       "    </tr>\n",
       "    <tr>\n",
       "      <th>9788</th>\n",
       "      <td>Discuss the advantages and disadvantages of pl...</td>\n",
       "      <td>Surveying</td>\n",
       "    </tr>\n",
       "    <tr>\n",
       "      <th>9789</th>\n",
       "      <td>Explain various steps adopted in theodolite tr...</td>\n",
       "      <td>Surveying</td>\n",
       "    </tr>\n",
       "    <tr>\n",
       "      <th>9790</th>\n",
       "      <td>Explain procedure to measure linear distance i...</td>\n",
       "      <td>Surveying</td>\n",
       "    </tr>\n",
       "    <tr>\n",
       "      <th>9791</th>\n",
       "      <td>What is Two point problem in Plane table surve...</td>\n",
       "      <td>Surveying</td>\n",
       "    </tr>\n",
       "  </tbody>\n",
       "</table>\n",
       "<p>9792 rows × 2 columns</p>\n",
       "</div>"
      ],
      "text/plain": [
       "                                               question  \\\n",
       "0     What are closed and open traverses? Explain Bo...   \n",
       "1     Distinguish between stadia and tangential syst...   \n",
       "2           Find the elements of simple circular curve.   \n",
       "3     Two roads defect at angle of 600. The are to b...   \n",
       "4                     Write various methods of sounding   \n",
       "...                                                 ...   \n",
       "9787  Define intersection and resection with neat sk...   \n",
       "9788  Discuss the advantages and disadvantages of pl...   \n",
       "9789  Explain various steps adopted in theodolite tr...   \n",
       "9790  Explain procedure to measure linear distance i...   \n",
       "9791  What is Two point problem in Plane table surve...   \n",
       "\n",
       "                        subject  \n",
       "0     Advance  Surveying holder  \n",
       "1     Advance  Surveying holder  \n",
       "2     Advance  Surveying holder  \n",
       "3     Advance  Surveying holder  \n",
       "4     Advance  Surveying holder  \n",
       "...                         ...  \n",
       "9787                  Surveying  \n",
       "9788                  Surveying  \n",
       "9789                  Surveying  \n",
       "9790                  Surveying  \n",
       "9791                  Surveying  \n",
       "\n",
       "[9792 rows x 2 columns]"
      ]
     },
     "execution_count": 2,
     "metadata": {},
     "output_type": "execute_result"
    }
   ],
   "source": [
    "# Read the question data\n",
    "questions = pd.read_csv(\"data/ques.csv\")\n",
    "questions"
   ]
  },
  {
   "cell_type": "code",
   "execution_count": 3,
   "metadata": {},
   "outputs": [
    {
     "data": {
      "text/plain": [
       "'Two roads defect at angle of 600. The are to be connected by a circular curve of 2000 m radius. The chainage at the point of intersection is 4582 m. Determine: i)Length of tangents    ii)degree of curve   iii) length of the whole chord   iv) length of the arc   v) chainages at the beginning and at the end of curve.'"
      ]
     },
     "execution_count": 3,
     "metadata": {},
     "output_type": "execute_result"
    }
   ],
   "source": [
    "only_questions = questions['question'].values\n",
    "only_questions[3]"
   ]
  },
  {
   "cell_type": "code",
   "execution_count": 4,
   "metadata": {},
   "outputs": [
    {
     "name": "stdout",
     "output_type": "stream",
     "text": [
      "{\n",
      "  \"choices\": [\n",
      "    {\n",
      "      \"finish_reason\": \"stop\",\n",
      "      \"index\": 0,\n",
      "      \"logprobs\": null,\n",
      "      \"text\": \"\\n\\ni) What is the length of the tangents? ii) What is the degree of the curve? iii) What is the length of the entire chord? iv) What is the length of the arc? v) What is the chainage at the beginning and the end of the curve?\"\n",
      "    }\n",
      "  ],\n",
      "  \"created\": 1675613942,\n",
      "  \"id\": \"cmpl-6gc1GzkljCLbdUBb4yn2sFEVvBnUQ\",\n",
      "  \"model\": \"text-davinci-003\",\n",
      "  \"object\": \"text_completion\",\n",
      "  \"usage\": {\n",
      "    \"completion_tokens\": 61,\n",
      "    \"prompt_tokens\": 87,\n",
      "    \"total_tokens\": 148\n",
      "  }\n",
      "}\n"
     ]
    }
   ],
   "source": [
    "with open(\"./ques/paraphrased_questions.csv\", \"a\", newline='') as f:\n",
    "  paraphrased_questions = paraphrase_sentence(\"Write short notes on:   i) Multipath propagation   ii) Kepler's law,advanced communication system\")\n",
    "  write = csv.writer(f)\n",
    "  write.writerows(paraphrased_questions)"
   ]
  },
  {
   "cell_type": "code",
   "execution_count": null,
   "metadata": {},
   "outputs": [],
   "source": []
  }
 ],
 "metadata": {
  "kernelspec": {
   "display_name": "venv",
   "language": "python",
   "name": "python3"
  },
  "language_info": {
   "codemirror_mode": {
    "name": "ipython",
    "version": 3
   },
   "file_extension": ".py",
   "mimetype": "text/x-python",
   "name": "python",
   "nbconvert_exporter": "python",
   "pygments_lexer": "ipython3",
   "version": "3.10.6"
  },
  "orig_nbformat": 4,
  "vscode": {
   "interpreter": {
    "hash": "026957a7714977eb1be53ae58b9f9ac3c19ad12b778e4b7855d33d4495722b46"
   }
  }
 },
 "nbformat": 4,
 "nbformat_minor": 2
}
